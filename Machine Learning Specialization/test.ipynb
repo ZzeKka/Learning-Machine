{
 "cells": [
  {
   "cell_type": "code",
   "execution_count": null,
   "id": "642789dd",
   "metadata": {
    "vscode": {
     "languageId": "plaintext"
    }
   },
   "outputs": [],
   "source": []
  },
  {
   "cell_type": "markdown",
   "id": "5162397b",
   "metadata": {},
   "source": []
  },
  {
   "cell_type": "markdown",
   "id": "ca699751",
   "metadata": {},
   "source": [
    "Este e um exemplo de supervised learning, <span style=\"color:green\"><span style=\"color:green\">unsupervised learning</span></span>"
   ]
  },
  {
   "cell_type": "code",
   "execution_count": null,
   "id": "746efe8a",
   "metadata": {
    "vscode": {
     "languageId": "plaintext"
    }
   },
   "outputs": [],
   "source": []
  },
  {
   "cell_type": "markdown",
   "id": "fd15b06c",
   "metadata": {},
   "source": []
  }
 ],
 "metadata": {
  "language_info": {
   "name": "python"
  }
 },
 "nbformat": 4,
 "nbformat_minor": 5
}
