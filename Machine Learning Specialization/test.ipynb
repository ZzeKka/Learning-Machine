{
 "cells": [
  {
   "cell_type": "markdown",
   "id": "ca699751",
   "metadata": {},
   "source": [
    "Este e um exemplo de supervised learning, unsupervised learning"
   ]
  }
 ],
 "metadata": {
  "language_info": {
   "name": "python"
  }
 },
 "nbformat": 4,
 "nbformat_minor": 5
}
