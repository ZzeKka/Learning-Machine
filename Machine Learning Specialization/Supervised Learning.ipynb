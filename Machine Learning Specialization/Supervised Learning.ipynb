{
 "cells": [
  {
   "cell_type": "markdown",
   "id": "2e652910",
   "metadata": {},
   "source": [
    "\n",
    "# **Supervised Learning**\n",
    "\n",
    "Supervised Learning takes pairs of <span style=\"color:green\">inputs</span> and <span style=\"color:red\">outputs</span>, and then learns from them. After learning from those values, he is ready to predict the output given some inputs."
   ]
  },
  {
   "cell_type": "markdown",
   "id": "e23dd78c",
   "metadata": {},
   "source": [
    "* ## **Regression**\n",
    "One type of Supervised learning is Regression, it consists in predicting a value that is inside a range (a spectrum of values), basicly there's an infinite number of outputs. An example would be predicting house prices."
   ]
  },
  {
   "cell_type": "markdown",
   "id": "c28cf012",
   "metadata": {},
   "source": [
    "* ## **Classification**\n",
    "Classification predicts a limited set of outputs, for example it could diagnose if a tumor is benign or maligne."
   ]
  }
 ],
 "metadata": {
  "language_info": {
   "name": "python"
  }
 },
 "nbformat": 4,
 "nbformat_minor": 5
}
