{
 "cells": [
  {
   "cell_type": "markdown",
   "id": "2e652910",
   "metadata": {},
   "source": [
    "\n",
    "# **<span style=\"color:#000080\">**<span style=\"color:#000080\">**Supervised learning**</span>**</span>**\n",
    "\n",
    "<span style=\"color:#000080\">**<span style=\"color:#000080\">**supervised learning**</span>**</span> takes pairs of <span style=\"color:#98FB98\">**<span style=\"color:#98FB98\">**inputs**</span>**</span> and <span style=\"color:#FF0000\">**<span style=\"color:#FF0000\">**outputs**</span>**</span>, and then learns from them. After learning from those values, he is ready to predict the <span style=\"color:#FF0000\">**<span style=\"color:#FF0000\">**output**</span>**</span> given some <span style=\"color:#98FB98\">**<span style=\"color:#98FB98\">**inputs**</span>**</span>."
   ]
  },
  {
   "cell_type": "markdown",
   "id": "e23dd78c",
   "metadata": {},
   "source": [
    "* ## **<span style=\"color:#AD98FB\">**<span style=\"color:#AD98FB\">**Regression**</span>**</span>**\n",
    "One type of <span style=\"color:#000080\">**<span style=\"color:#000080\">**supervised learning**</span>**</span> is <span style=\"color:#AD98FB\">**<span style=\"color:#AD98FB\">**regression**</span>**</span>, it consists in predicting a value that is inside a range (a spectrum of values), basicly there's an infinite number of <span style=\"color:#FF0000\">**<span style=\"color:#FF0000\">**outputs**</span>**</span>. An example would be predicting house prices."
   ]
  },
  {
   "cell_type": "markdown",
   "id": "c28cf012",
   "metadata": {},
   "source": [
    "* ## **<span style=\"color:#8800FF\">**<span style=\"color:#8800FF\">**Classification**</span>**</span>**\n",
    "<span style=\"color:#8800FF\">**<span style=\"color:#8800FF\">**classification**</span>**</span> \n",
    "predicts a limited set of <span style=\"color:#FF0000\">**<span style=\"color:#FF0000\">**outputs**</span>**</span>, for example it could diagnose if a tumor is benign or maligne."
   ]
  },
  {
   "cell_type": "markdown",
   "id": "af6b4ccb",
   "metadata": {},
   "source": []
  }
 ],
 "metadata": {
  "language_info": {
   "name": "python"
  }
 },
 "nbformat": 4,
 "nbformat_minor": 5
}
